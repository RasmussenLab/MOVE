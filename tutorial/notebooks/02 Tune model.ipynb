{
 "cells": [
  {
   "cell_type": "markdown",
   "metadata": {},
   "source": [
    "## Running hyperparameter optimization - Part 1\n",
    "\n",
    "This notebook goes through the hyperparameter tuning of MOVE.\n",
    "\n",
    "The optimal settings are identified based on multiple steps cosidering both\n",
    "reconstruction on the test and training sets as well as the stability/similiarity\n",
    "of the latent space in case of repeated training. Herein, we focus on the test\n",
    "and training reconstruction accuracies.\n",
    "\n",
    "Note that because we are training multiple models and recording their metrics,\n",
    "it's best to run this task from the command line. You can do so with the\n",
    "following command*:\n",
    "\n",
    "\\* Note: the command may take a while, and will not display any progress\n",
    "message if ran directly from the notebook. However, a log file will report the \n",
    "progress."
   ]
  },
  {
   "cell_type": "code",
   "execution_count": 1,
   "metadata": {},
   "outputs": [
    {
     "name": "stderr",
     "output_type": "stream",
     "text": [
      "[INFO  - tune_model]: Beginning task: tune model 1\n",
      "[INFO  - tune_model]: Job name: task.batch_size=10,task.model.num_hidden=[500],task.training_loop.num_epochs=40\n",
      "[INFO  - tune_model]: Reconstructing\n",
      "[INFO  - tune_model]: Computing reconstruction metrics\n",
      "[INFO  - tune_model]: Writing results\n",
      "[INFO  - tune_model]: Beginning task: tune model 2\n",
      "[INFO  - tune_model]: Job name: task.batch_size=10,task.model.num_hidden=[500],task.training_loop.num_epochs=60\n",
      "[INFO  - tune_model]: Reconstructing\n",
      "[INFO  - tune_model]: Computing reconstruction metrics\n",
      "[INFO  - tune_model]: Writing results\n",
      "[INFO  - tune_model]: Beginning task: tune model 3\n",
      "[INFO  - tune_model]: Job name: task.batch_size=10,task.model.num_hidden=[500],task.training_loop.num_epochs=100\n",
      "[INFO  - tune_model]: Reconstructing\n",
      "[INFO  - tune_model]: Computing reconstruction metrics\n",
      "[INFO  - tune_model]: Writing results\n",
      "[INFO  - tune_model]: Beginning task: tune model 4\n",
      "[INFO  - tune_model]: Job name: task.batch_size=10,task.model.num_hidden=[1000],task.training_loop.num_epochs=40\n",
      "[INFO  - tune_model]: Reconstructing\n",
      "[INFO  - tune_model]: Computing reconstruction metrics\n",
      "[INFO  - tune_model]: Writing results\n",
      "[INFO  - tune_model]: Beginning task: tune model 5\n",
      "[INFO  - tune_model]: Job name: task.batch_size=10,task.model.num_hidden=[1000],task.training_loop.num_epochs=60\n",
      "[INFO  - tune_model]: Reconstructing\n",
      "[INFO  - tune_model]: Computing reconstruction metrics\n",
      "[INFO  - tune_model]: Writing results\n",
      "[INFO  - tune_model]: Beginning task: tune model 6\n",
      "[INFO  - tune_model]: Job name: task.batch_size=10,task.model.num_hidden=[1000],task.training_loop.num_epochs=100\n",
      "[INFO  - tune_model]: Reconstructing\n",
      "[INFO  - tune_model]: Computing reconstruction metrics\n",
      "[INFO  - tune_model]: Writing results\n",
      "[INFO  - tune_model]: Beginning task: tune model 7\n",
      "[INFO  - tune_model]: Job name: task.batch_size=50,task.model.num_hidden=[500],task.training_loop.num_epochs=40\n",
      "[INFO  - tune_model]: Reconstructing\n",
      "[INFO  - tune_model]: Computing reconstruction metrics\n",
      "[INFO  - tune_model]: Writing results\n",
      "[INFO  - tune_model]: Beginning task: tune model 8\n",
      "[INFO  - tune_model]: Job name: task.batch_size=50,task.model.num_hidden=[500],task.training_loop.num_epochs=60\n",
      "[INFO  - tune_model]: Reconstructing\n",
      "[INFO  - tune_model]: Computing reconstruction metrics\n",
      "[INFO  - tune_model]: Writing results\n",
      "[INFO  - tune_model]: Beginning task: tune model 9\n",
      "[INFO  - tune_model]: Job name: task.batch_size=50,task.model.num_hidden=[500],task.training_loop.num_epochs=100\n",
      "[INFO  - tune_model]: Reconstructing\n",
      "[INFO  - tune_model]: Computing reconstruction metrics\n",
      "[INFO  - tune_model]: Writing results\n",
      "[INFO  - tune_model]: Beginning task: tune model 10\n",
      "[INFO  - tune_model]: Job name: task.batch_size=50,task.model.num_hidden=[1000],task.training_loop.num_epochs=40\n",
      "[INFO  - tune_model]: Reconstructing\n",
      "[INFO  - tune_model]: Computing reconstruction metrics\n",
      "[INFO  - tune_model]: Writing results\n",
      "[INFO  - tune_model]: Beginning task: tune model 11\n",
      "[INFO  - tune_model]: Job name: task.batch_size=50,task.model.num_hidden=[1000],task.training_loop.num_epochs=60\n",
      "[INFO  - tune_model]: Reconstructing\n",
      "[INFO  - tune_model]: Computing reconstruction metrics\n",
      "[INFO  - tune_model]: Writing results\n",
      "[INFO  - tune_model]: Beginning task: tune model 12\n",
      "[INFO  - tune_model]: Job name: task.batch_size=50,task.model.num_hidden=[1000],task.training_loop.num_epochs=100\n",
      "[INFO  - tune_model]: Reconstructing\n",
      "[INFO  - tune_model]: Computing reconstruction metrics\n",
      "[INFO  - tune_model]: Writing results\n"
     ]
    }
   ],
   "source": [
    "! move-dl experiment=random_small__tune"
   ]
  },
  {
   "cell_type": "markdown",
   "metadata": {},
   "source": [
    "The output of the previous command is a TSV table, recording the metrics of each\n",
    " run."
   ]
  },
  {
   "cell_type": "code",
   "execution_count": 2,
   "metadata": {},
   "outputs": [],
   "source": [
    "from itertools import chain\n",
    "\n",
    "import numpy as np\n",
    "import pandas as pd\n",
    "import matplotlib.pyplot as plt\n",
    "\n",
    "results = pd.read_csv(\"results/tune_model/reconstruction_stats.tsv\", sep=\"\\t\")"
   ]
  },
  {
   "cell_type": "markdown",
   "metadata": {},
   "source": [
    "In this tutorial, we looked at different batch size and number of training\n",
    "epochs."
   ]
  },
  {
   "cell_type": "code",
   "execution_count": 3,
   "metadata": {},
   "outputs": [],
   "source": [
    "plot_data = results[lambda df: df[\"task.model.num_hidden\"] == \"[500]\"]\n",
    "\n",
    "prot_g1 = plot_data[lambda df: (df[\"task.batch_size\"] == 10) & (df[\"dataset\"] == \"random.small.proteomics\") & (df[\"split\"] == \"train\")]\n",
    "prot_g1_stats = prot_g1.to_dict(orient=\"records\")\n",
    "\n",
    "prot_g2 = plot_data[lambda df: (df[\"task.batch_size\"] == 10) & (df[\"dataset\"] == \"random.small.proteomics\") & (df[\"split\"] == \"test\")]\n",
    "prot_g2_stats = prot_g2.to_dict(orient=\"records\")\n",
    "\n",
    "prot_g3 = plot_data[lambda df: (df[\"task.batch_size\"] == 50) & (df[\"dataset\"] == \"random.small.proteomics\") & (df[\"split\"] == \"train\")]\n",
    "prot_g3_stats = prot_g3.to_dict(orient=\"records\")\n",
    "\n",
    "prot_g4 = plot_data[lambda df: (df[\"task.batch_size\"] == 50) & (df[\"dataset\"] == \"random.small.proteomics\") & (df[\"split\"] == \"test\")]\n",
    "prot_g4_stats = prot_g4.to_dict(orient=\"records\")\n",
    "\n",
    "# matplotlib complains if fliers are unset\n",
    "for bxp_stats in chain(prot_g1_stats, prot_g2_stats, prot_g3_stats, prot_g4_stats):\n",
    "    bxp_stats[\"fliers\"] = []"
   ]
  },
  {
   "cell_type": "code",
   "execution_count": 4,
   "metadata": {},
   "outputs": [
    {
     "data": {
      "image/png": "[encoded data removed]",
      "text/plain": [
       "<Figure size 576x288 with 2 Axes>"
      ]
     },
     "metadata": {
      "needs_background": "light"
     },
     "output_type": "display_data"
    }
   ],
   "source": [
    "fig, axs = plt.subplots(ncols=2, sharey=True, figsize=(8, 4))\n",
    "\n",
    "coll1 = axs[0].bxp(prot_g1_stats, positions=[*range(0, 6, 2)], boxprops=dict(facecolor=\"#7570b3\"), patch_artist=True)\n",
    "coll2 = axs[0].bxp(prot_g2_stats, positions=[*range(1, 6, 2)], boxprops=dict(facecolor=\"#1b9e77\"), patch_artist=True)\n",
    "\n",
    "axs[1].bxp(prot_g3_stats, positions=[*range(0, 6, 2)], boxprops=dict(facecolor=\"#7570b3\"), patch_artist=True)\n",
    "axs[1].bxp(prot_g4_stats, positions=[*range(1, 6, 2)], boxprops=dict(facecolor=\"#1b9e77\"), patch_artist=True)\n",
    "\n",
    "axs[0].set(\n",
    "    xticks=np.arange(0.5, 6, 2), xticklabels=[40, 60, 100], ylim=(0, 1),\n",
    "    xlabel=\"# epochs\", ylabel=\"cosine similarity\", title=\"batch size = 10\",\n",
    ")\n",
    "axs[1].set(\n",
    "    xticks=np.arange(0.5, 6, 2), xticklabels=[40, 60, 100],\n",
    "    xlabel=\"# epochs\", title=\"batch size = 50\"\n",
    ")\n",
    "\n",
    "axs[1].legend([coll1[\"boxes\"][0], coll2[\"boxes\"][0]], [\"train\", \"test\"], title=\"split\")\n",
    "\n",
    "plt.show()"
   ]
  },
  {
   "cell_type": "markdown",
   "metadata": {},
   "source": [
    "From the above plot, we can easily see the relation between increasing the\n",
    "number of epochs and improving the accuracy of reconstructing the proteomics\n",
    "dataset. We can also see that in this case a smaller batch size is a better\n",
    "choice.\n",
    "\n",
    "The same type of plot can be generated for the other set of hyperparameters and\n",
    "datasets."
   ]
  }
 ],
 "metadata": {
  "kernelspec": {
   "display_name": "Python 3.9.12 ('move')",
   "language": "python",
   "name": "python3"
  },
  "language_info": {
   "codemirror_mode": {
    "name": "ipython",
    "version": 3
   },
   "file_extension": ".py",
   "mimetype": "text/x-python",
   "name": "python",
   "nbconvert_exporter": "python",
   "pygments_lexer": "ipython3",
   "version": "3.9.12"
  },
  "orig_nbformat": 4,
  "vscode": {
   "interpreter": {
    "hash": "e492c9f5b826854dfdf94b8d6b402bb809c46c7a6d638ce69ac84ffd4f448018"
   }
  }
 },
 "nbformat": 4,
 "nbformat_minor": 2
}
