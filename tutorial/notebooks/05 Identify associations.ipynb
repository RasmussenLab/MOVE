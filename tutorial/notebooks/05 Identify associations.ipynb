{
 "cells": [
  {
   "cell_type": "markdown",
   "metadata": {},
   "source": [
    "## Extracting drug assosiations\n",
    "\n",
    "This notebook runs part of the Multi-Omics Variational autoEncoder (MOVE) framework for using the structure the VAE has identified for extracting categorical data assositions across all continuous datasets. In the MOVE paper we used it for identifiying drug assosiations in clinical and multi-omics data."
   ]
  },
  {
   "cell_type": "code",
   "execution_count": 1,
   "metadata": {},
   "outputs": [],
   "source": [
    "from move.data import io\n",
    "from move.tasks import identify_associations"
   ]
  },
  {
   "cell_type": "markdown",
   "metadata": {},
   "source": [
    "We will start by running the probabilistic approach to find associations between\n",
    "the drugs dataset and the omics features."
   ]
  },
  {
   "cell_type": "code",
   "execution_count": 2,
   "metadata": {},
   "outputs": [
    {
     "name": "stderr",
     "output_type": "stream",
     "text": [
      "[INFO  - identify_associations]: Beginning task: identify associations (bayes)\n",
      "[INFO  - identify_associations]: Perturbing dataset: 'random.small.drugs'\n",
      "[INFO  - identify_associations]: Training models\n",
      "[INFO  - identify_associations]: Identifying significant features\n",
      "[INFO  - identify_associations]: Significant hits found: 127\n",
      "[INFO  - identify_associations]: Writing results\n"
     ]
    }
   ],
   "source": [
    "config = io.read_config(\"random_small\", \"random_small__id_assoc_bayes\")\n",
    "identify_associations(config)"
   ]
  },
  {
   "cell_type": "markdown",
   "metadata": {},
   "source": [
    "This dataset includes 200 known associations, and MOVE could help identify 127\n",
    "of them. Note that fiddling with the parameters of MOVE may improve this result;\n",
    "however, many associations are rather small, so we do not expect to find them \n",
    "all.\n",
    "\n",
    "The results are written in a TSV file, which we can read to compare against the\n",
    "ground truth."
   ]
  },
  {
   "cell_type": "code",
   "execution_count": 3,
   "metadata": {},
   "outputs": [],
   "source": [
    "from pathlib import Path\n",
    "\n",
    "import pandas as pd\n",
    "\n",
    "raw_data_path = Path(config.data.raw_data_path)\n",
    "results_path = Path(config.data.processed_data_path) / \"identify_associations\"\n",
    "\n",
    "truth = pd.read_csv(raw_data_path / \"changes.small.txt\", sep=\"\\t\", index_col=0)\n",
    "results = pd.read_csv(results_path / \"results_sig_assoc.tsv\", sep=\"\\t\")"
   ]
  },
  {
   "cell_type": "markdown",
   "metadata": {},
   "source": [
    "All our hits are true positives!"
   ]
  },
  {
   "cell_type": "code",
   "execution_count": 4,
   "metadata": {},
   "outputs": [
    {
     "name": "stdout",
     "output_type": "stream",
     "text": [
      "False positives:   0/127\n",
      "True positives:  127/200\n"
     ]
    }
   ],
   "source": [
    "merged = truth.merge(\n",
    "    results,\n",
    "    left_on=[\"drug_feature\", \"dataset_feature\"],\n",
    "    right_on=[\"feature_a_name\", \"feature_b_name\"]\n",
    ")\n",
    "\n",
    "tp = len(merged)\n",
    "fp = len(results) - len(merged)\n",
    "\n",
    "print(f\"False positives: {fp: 3}/{len(results)}\\nTrue positives: {tp: 3}/{len(truth)}\")"
   ]
  },
  {
   "cell_type": "markdown",
   "metadata": {},
   "source": [
    "We can also run the t-test method, and compare both results.\n",
    "\n",
    "Note that here we override the `processed_data_path` field to prevent overwriting\n",
    "the previous results."
   ]
  },
  {
   "cell_type": "code",
   "execution_count": 5,
   "metadata": {},
   "outputs": [
    {
     "name": "stderr",
     "output_type": "stream",
     "text": [
      "[INFO  - identify_associations]: Beginning task: identify associations (ttest)\n",
      "[INFO  - identify_associations]: Perturbing dataset: 'random.small.drugs'\n",
      "[INFO  - identify_associations]: Training models\n",
      "[INFO  - identify_associations]: Significant hits found: 119\n",
      "[INFO  - identify_associations]: Writing results\n"
     ]
    }
   ],
   "source": [
    "ttest_config = io.read_config(\"random_small\", \"random_small__id_assoc_ttest\", \"data.processed_data_path=results_ttest\")\n",
    "identify_associations(ttest_config)"
   ]
  },
  {
   "cell_type": "markdown",
   "metadata": {},
   "source": [
    "We can now load the results, and check how the results of each method differ\n",
    "from each other.\n",
    "\n",
    "Note: you need to install `matplotlib_venn` to generate the Venn diagram below."
   ]
  },
  {
   "cell_type": "code",
   "execution_count": 6,
   "metadata": {},
   "outputs": [],
   "source": [
    "results_ttest_path = Path(config.data.processed_data_path) / \"identify_associations\"\n",
    "\n",
    "results_ttest = pd.read_csv(results_ttest_path / \"results_sig_assoc.tsv\", sep=\"\\t\")"
   ]
  },
  {
   "cell_type": "code",
   "execution_count": 7,
   "metadata": {},
   "outputs": [],
   "source": [
    "set_truth = set(truth[\"drug_feature\"] + truth[\"dataset_feature\"])\n",
    "set_bayes = set(results[\"feature_a_name\"] + results[\"feature_b_name\"])\n",
    "set_ttest = set(results_ttest[\"feature_a_name\"] + results_ttest[\"feature_b_name\"])"
   ]
  },
  {
   "cell_type": "markdown",
   "metadata": {},
   "source": [
    "For this example dataset, the Bayes method got more hits than the t-test method."
   ]
  },
  {
   "cell_type": "code",
   "execution_count": 8,
   "metadata": {},
   "outputs": [
    {
     "data": {
      "image/png": "[encoded data removed]",
      "text/plain": [
       "<Figure size 432x288 with 1 Axes>"
      ]
     },
     "metadata": {},
     "output_type": "display_data"
    }
   ],
   "source": [
    "from matplotlib_venn import venn3_unweighted\n",
    "\n",
    "_ = venn3_unweighted([set_truth, set_bayes, set_ttest], [\"Ground Truth\", \"MOVE Bayes\", \"MOVE t-test\"])"
   ]
  }
 ],
 "metadata": {
  "kernelspec": {
   "display_name": "Python 3.9.12 ('move')",
   "language": "python",
   "name": "python3"
  },
  "language_info": {
   "codemirror_mode": {
    "name": "ipython",
    "version": 3
   },
   "file_extension": ".py",
   "mimetype": "text/x-python",
   "name": "python",
   "nbconvert_exporter": "python",
   "pygments_lexer": "ipython3",
   "version": "3.9.12"
  },
  "orig_nbformat": 4,
  "vscode": {
   "interpreter": {
    "hash": "e492c9f5b826854dfdf94b8d6b402bb809c46c7a6d638ce69ac84ffd4f448018"
   }
  }
 },
 "nbformat": 4,
 "nbformat_minor": 2
}
